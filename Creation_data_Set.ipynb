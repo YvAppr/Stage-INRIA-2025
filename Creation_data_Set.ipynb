{
 "cells": [
  {
   "cell_type": "code",
   "execution_count": 1,
   "metadata": {},
   "outputs": [],
   "source": [
    "import numpy as np\n",
    "import matplotlib.pyplot as plt\n",
    "from matplotlib.path import Path\n",
    "from matplotlib.patches import PathPatch\n",
    "from matplotlib.ticker import MultipleLocator\n",
    "from matplotlib.patches import Circle, Rectangle\n",
    "from matplotlib.collections import LineCollection"
   ]
  },
  {
   "cell_type": "code",
   "execution_count": 2,
   "metadata": {},
   "outputs": [],
   "source": [
    "def line_intersect(p1, p2, P3, P4):\n",
    "    # calcule les coordonnées des points d'intersections entre deux segments. Ici entre le rayon du senseur et du mur\n",
    "\n",
    "    # on récupère les coodonnées de tous les segments que formé par les senseurs\n",
    "    p1 = np.atleast_2d(p1) \n",
    "    p2 = np.atleast_2d(p2)\n",
    "    # on récupère les coordonnées des segments des murs du labyrinthe\n",
    "    P3 = np.atleast_2d(P3)\n",
    "    P4 = np.atleast_2d(P4)\n",
    "    \n",
    "\n",
    "    x1, y1 = p1[:,0], p1[:,1]\n",
    "    x2, y2 = p2[:,0], p2[:,1]\n",
    "    X3, Y3 = P3[:,0], P3[:,1]\n",
    "    X4, Y4 = P4[:,0], P4[:,1]\n",
    "\n",
    "    #colinéarité entre le vecteur senseur et le mur \n",
    "    D = (Y4-Y3)*(x2-x1) - (X4-X3)*(y2-y1)\n",
    "\n",
    "    # Colinearity test\n",
    "    C = (D != 0)\n",
    "    UA = ((X4-X3)*(y1-Y3) - (Y4-Y3)*(x1-X3))\n",
    "    UA = np.divide(UA, D, where=C)\n",
    "    UB = ((x2-x1)*(y1-Y3) - (y2-y1)*(x1-X3))\n",
    "    UB = np.divide(UB, D, where=C)\n",
    "\n",
    "    # Test if intersections are inside each segment\n",
    "    C = C * (UA > 0) * (UA < 1) * (UB > 0) * (UB < 1)\n",
    "    \n",
    "    X = np.where(C, x1 + UA*(x2-x1), np.inf)\n",
    "    Y = np.where(C, y1 + UA*(y2-y1), np.inf)\n",
    "    return np.stack([X,Y],axis=1)"
   ]
  },
  {
   "cell_type": "code",
   "execution_count": 3,
   "metadata": {},
   "outputs": [],
   "source": [
    "class Maze:\n",
    "    \"\"\"\n",
    "    A simple 8-maze made of straight walls (line segments)\n",
    "    \"\"\"\n",
    "\n",
    "    def __init__(self):\n",
    "        self.walls = np.array( [\n",
    "\n",
    "            # Surrounding walls\n",
    "            [ (  0,   0), (  0, 500)],\n",
    "            [ (  0, 500), (300, 500)],\n",
    "            [ (300, 500), (300,   0)],\n",
    "            [ (300,   0), (  0,   0)],\n",
    "            \n",
    "            # Bottom hole\n",
    "            [ (100, 100), (200, 100)],\n",
    "            [ (200, 100), (200, 200)],\n",
    "            [ (200, 200), (100, 200)],\n",
    "            [ (100, 200), (100, 100)],\n",
    "\n",
    "            # Top hole\n",
    "            [ (100, 300), (200, 300)],\n",
    "            [ (200, 300), (200, 400)],\n",
    "            [ (200, 400), (100, 400)],\n",
    "            [ (100, 400), (100, 300)],\n",
    "\n",
    "            # Moving walls (invisibles) to constraing bot path\n",
    "            [ (  0, 250), (100, 200)],\n",
    "            [ (200, 300), (300, 250)] \n",
    "        ] )"
   ]
  },
  {
   "cell_type": "code",
   "execution_count": 35,
   "metadata": {},
   "outputs": [],
   "source": [
    "class Bot:\n",
    "    \n",
    "    def __init__(self):\n",
    "        self.size = 10\n",
    "        self.position = 150,250\n",
    "        self.orientation = 0\n",
    "        self.n_sensors = 8\n",
    "        A = np.linspace(-np.pi/2, +np.pi/2, self.n_sensors+2, endpoint=True)[1:-1]\n",
    "        self.sensors = {\n",
    "            \"angle\" : A,\n",
    "            \"range\" : 75*np.ones((self.n_sensors,1)),\n",
    "            \"value\" : np.ones((self.n_sensors,1)) }\n",
    "\n",
    "    def draw(self, ax):\n",
    "\n",
    "        # Sensors\n",
    "        n = 2*len(self.sensors[\"angle\"])\n",
    "        sensors = LineCollection(np.zeros((n,2,2)),\n",
    "                                 colors = [\"0.75\", \"0.00\"] * n,\n",
    "                                 linewidths = [0.75, 1.00] * n,\n",
    "                                 linestyles = [\"--\", \"-\"] * n)\n",
    "        # Body \n",
    "        body = Circle(self.position, self.size, zorder=20,\n",
    "                      edgecolor=\"black\", facecolor=(1,1,1,.75))\n",
    "\n",
    "        # Head\n",
    "        P = np.zeros((1,2,2))\n",
    "        P[0,0] = self.position\n",
    "        P[0,1] = P[0,1] + self.size * np.array([np.cos(self.orientation),\n",
    "                                                np.sin(self.orientation)])\n",
    "\n",
    "    \n",
    "    def update(self, maze):\n",
    "        # Sensors\n",
    "        A = self.sensors[\"angle\"] + self.orientation # angles de tous les senseurs\n",
    "        T = np.stack([np.cos(A), np.sin(A)], axis=1) # gradient ? de tous les angles des senseurs\n",
    "        P1 = self.position + self.size*T # positions dans le plan de tous les senseurs du robot\n",
    "        P2 = P1 + self.sensors[\"range\"]*T # coordonées de la fin du segment formé a partir du senseur et jusq'uà sa distance de vision\n",
    "        P3, P4 = maze.walls[:,0], maze.walls[:,1] # coordonnées de tous les murs du labyrinthe \n",
    "        for i, (p1, p2) in enumerate(zip(P1,P2)): # pour tous les segments robot-range \n",
    "            C = line_intersect(p1, p2, P3, P4) # calcul du point d'intersection entre la vision et le mur du labyrinthe\n",
    "            index = np.argmin( ((C - p1)**2).sum(axis=1)) # somme des distances au carré du robot aux intersections, on obtient le nom du senseur de plus petit distance au mur \n",
    "            p = C[index] # on récupère la plus petite distance au mur\n",
    "            if p[0] < np.inf: # si la distance est finie alors:\n",
    "                self.sensors[\"value\"][i] = np.sqrt(((p1-p)**2).sum())\n",
    "                self.sensors[\"value\"][i] /= self.sensors[\"range\"][i]\n",
    "            else:\n",
    "                self.sensors[\"value\"][i] = 1"
   ]
  },
  {
   "cell_type": "code",
   "execution_count": 36,
   "metadata": {},
   "outputs": [],
   "source": [
    "def update():\n",
    "    dv = (bot.sensors[\"value\"].ravel() * [-4,-3,-2,-1,1,2,3,4]).sum()\n",
    "    if abs(dv) > 0.5:\n",
    "        bot.orientation += 0.01 * dv\n",
    "    bot.position += 2 * np.array([np.cos(bot.orientation),\n",
    "                                  np.sin(bot.orientation)])\n",
    "    bot.update(maze)\n",
    "\n",
    "    # Moving walls\n",
    "    if bot.position[1] < 100:\n",
    "        maze.walls[12:] = [[(0, 250), (100, 300)], [(200, 200), (300, 250)]]\n",
    "    elif bot.position[1] > 400:\n",
    "        maze.walls[12:] = [[(0, 250), (100, 200)], [(200, 300), (300, 250)]]\n",
    "    return \n",
    "    "
   ]
  },
  {
   "cell_type": "code",
   "execution_count": 37,
   "metadata": {},
   "outputs": [],
   "source": [
    "#on construit le data set pour entrainer le modèle, 10_000 données recoupant les valeurs des senseurs, le theta, la position\n",
    "\n",
    "# initialisation des variables\n",
    "maze = Maze()\n",
    "bot = Bot()\n",
    "bot.position = 150, 250\n",
    "bot.orientation = 0\n",
    "bot.sensors[\"range\"][3:5] *= 1.25\n",
    "set_size= 10_000\n",
    "#  création du tableau \n",
    "Data_set=np.zeros((set_size,11))\n",
    "\n",
    "\n",
    "for i in range(set_size):\n",
    "    sensors_data=bot.sensors[\"value\"].ravel()\n",
    "    angle= [bot.orientation]\n",
    "    position= bot.position\n",
    "    Data_set[i]=np.concatenate((sensors_data,angle,bot.position))\n",
    "    update()"
   ]
  },
  {
   "cell_type": "code",
   "execution_count": 38,
   "metadata": {},
   "outputs": [
    {
     "data": {
      "text/plain": [
       "array([[150.        , 250.        ],\n",
       "       [152.        , 250.        ],\n",
       "       [154.        , 250.        ],\n",
       "       ...,\n",
       "       [ 35.41851606, 373.76727028],\n",
       "       [ 36.06911488, 371.87604814],\n",
       "       [ 36.73931971, 369.99168473]])"
      ]
     },
     "execution_count": 38,
     "metadata": {},
     "output_type": "execute_result"
    }
   ],
   "source": [
    "Data_set[:, 9:11]"
   ]
  },
  {
   "cell_type": "code",
   "execution_count": 30,
   "metadata": {},
   "outputs": [
    {
     "data": {
      "image/png": "[encoded data removed]",
      "text/plain": [
       "<Figure size 600x600 with 1 Axes>"
      ]
     },
     "metadata": {},
     "output_type": "display_data"
    }
   ],
   "source": [
    "# Extraire les colonnes 9 et 10\n",
    "positions = Data_set[:, 9:11]  # shape (N, 2)\n",
    "\n",
    "# Tracer la trajectoire\n",
    "plt.figure(figsize=(6,6))\n",
    "plt.plot(positions[:, 0], positions[:, 1], linestyle=\":\", color=\"blue\")\n",
    "plt.title(\"Trajectoire du robot\")\n",
    "plt.xlabel(\"x\")\n",
    "plt.ylabel(\"y\")\n",
    "plt.axis(\"equal\")  # pour garder les proportions\n",
    "plt.grid(True)\n",
    "plt.show()"
   ]
  },
  {
   "cell_type": "code",
   "execution_count": 34,
   "metadata": {},
   "outputs": [
    {
     "name": "stdout",
     "output_type": "stream",
     "text": [
      "Position la plus fréquente : (91.5, 243.8) (vue 14 fois)\n"
     ]
    }
   ],
   "source": [
    "#Verifier les occurences et nombre de tours effectués par l'agent\n",
    "import numpy as np\n",
    "from collections import Counter\n",
    "\n",
    "# Extraire les positions (colonnes 9 et 10)\n",
    "positions = Data_set[:, 9:11]\n",
    "\n",
    "# Option : arrondir les positions à l'entier (ou 0.5 si tu veux plus fin)\n",
    "rounded_positions = np.round(positions,decimals=1)  # shape (N, 2)\n",
    "\n",
    "# Convertir en tuples pour compter facilement\n",
    "tuple_positions = [tuple(pos) for pos in rounded_positions]\n",
    "\n",
    "# Compter les occurrences\n",
    "counts = Counter(tuple_positions)\n",
    "\n",
    "# Trouver la position la plus fréquente\n",
    "most_common_pos, freq = counts.most_common(1)[0]\n",
    "\n",
    "print(f\"Position la plus fréquente : {most_common_pos} (vue {freq} fois)\")"
   ]
  },
  {
   "cell_type": "code",
   "execution_count": null,
   "metadata": {},
   "outputs": [],
   "source": []
  }
 ],
 "metadata": {
  "kernelspec": {
   "display_name": "base",
   "language": "python",
   "name": "python3"
  },
  "language_info": {
   "codemirror_mode": {
    "name": "ipython",
    "version": 3
   },
   "file_extension": ".py",
   "mimetype": "text/x-python",
   "name": "python",
   "nbconvert_exporter": "python",
   "pygments_lexer": "ipython3",
   "version": "3.12.2"
  },
  "orig_nbformat": 4
 },
 "nbformat": 4,
 "nbformat_minor": 2
}
